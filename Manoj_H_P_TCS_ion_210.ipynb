{
  "nbformat": 4,
  "nbformat_minor": 0,
  "metadata": {
    "colab": {
      "name": "Manoj H P/TCS-ion 210.ipynb",
      "provenance": [],
      "toc_visible": true,
      "mount_file_id": "1Y3NsPz8JnDqArzCbswCGmS8UxxN23ICm",
      "authorship_tag": "ABX9TyMoceGSZZ31MiMjTw+0Zsuy",
      "include_colab_link": true
    },
    "kernelspec": {
      "name": "python3",
      "display_name": "Python 3"
    }
  },
  "cells": [
    {
      "cell_type": "markdown",
      "metadata": {
        "id": "view-in-github",
        "colab_type": "text"
      },
      "source": [
        "<a href=\"https://colab.research.google.com/github/praveenkumar136/manoj_hp/blob/master/Manoj_H_P_TCS_ion_210.ipynb\" target=\"_parent\"><img src=\"https://colab.research.google.com/assets/colab-badge.svg\" alt=\"Open In Colab\"/></a>"
      ]
    },
    {
      "cell_type": "markdown",
      "metadata": {
        "id": "kdOALLHgMu7f",
        "colab_type": "text"
      },
      "source": [
        "**Name:** Manoj H P\n",
        "\n",
        "**Internship Project Topic:** Automate identification and recognition of handwritten text from an image.\n",
        "\n",
        "**Name of the Organization:** TCS iON\n",
        "\n",
        "**Name of the Industry Mentor:** Debashis Roy\n",
        "\n",
        "**Name of the Institute:** Siddaganga Institute of Technology ,Tumkur"
      ]
    },
    {
      "cell_type": "markdown",
      "metadata": {
        "id": "4-yKpihT25p8",
        "colab_type": "text"
      },
      "source": [
        "## **Installation:** This is the installation guide module.\n",
        "### You have to install all dependencies given below one by one."
      ]
    },
    {
      "cell_type": "code",
      "metadata": {
        "id": "exIfeul-28gA",
        "colab_type": "code",
        "colab": {}
      },
      "source": [
        "!sudo add-apt-repository ppa:alex-p/tesseract-ocr"
      ],
      "execution_count": null,
      "outputs": []
    },
    {
      "cell_type": "code",
      "metadata": {
        "id": "CVaI2OGQ3HOF",
        "colab_type": "code",
        "colab": {}
      },
      "source": [
        "!sudo apt-get update"
      ],
      "execution_count": null,
      "outputs": []
    },
    {
      "cell_type": "code",
      "metadata": {
        "id": "26AAdwQ-3K_D",
        "colab_type": "code",
        "colab": {}
      },
      "source": [
        "!sudo apt install tesseract-ocr"
      ],
      "execution_count": null,
      "outputs": []
    },
    {
      "cell_type": "code",
      "metadata": {
        "id": "1gaJhYqW3LvD",
        "colab_type": "code",
        "colab": {}
      },
      "source": [
        "!sudo apt install libtesseract-dev"
      ],
      "execution_count": null,
      "outputs": []
    },
    {
      "cell_type": "code",
      "metadata": {
        "id": "xP-SsVOx3qzF",
        "colab_type": "code",
        "colab": {}
      },
      "source": [
        "!sudo pip install pytesseract"
      ],
      "execution_count": null,
      "outputs": []
    },
    {
      "cell_type": "code",
      "metadata": {
        "id": "vupdVgH33_Cs",
        "colab_type": "code",
        "colab": {}
      },
      "source": [
        "\n",
        "#Checking the installation.\n",
        "!tesseract --version"
      ],
      "execution_count": null,
      "outputs": []
    },
    {
      "cell_type": "markdown",
      "metadata": {
        "id": "0GHxCcNS3EhN",
        "colab_type": "text"
      },
      "source": [
        "#**Input Module:** This module saves the source image in the directory. By simply mounting your Google Drive. It retrives the image from which the text is to be extracted."
      ]
    },
    {
      "cell_type": "code",
      "metadata": {
        "id": "Q2ziCmp6gNF4",
        "colab_type": "code",
        "colab": {
          "base_uri": "https://localhost:8080/",
          "height": 34
        },
        "outputId": "73470918-0062-43b7-daf9-4531cc4a8679"
      },
      "source": [
        "#Image Source Input Module \n",
        "from google.colab import drive\n",
        "drive.mount('/content/drive')\n",
        "\n",
        "filename = ('/content/drive/My Drive/test img4.png ')\n"
      ],
      "execution_count": null,
      "outputs": [
        {
          "output_type": "stream",
          "text": [
            "Drive already mounted at /content/drive; to attempt to forcibly remount, call drive.mount(\"/content/drive\", force_remount=True).\n"
          ],
          "name": "stdout"
        }
      ]
    },
    {
      "cell_type": "markdown",
      "metadata": {
        "id": "dvyFYwR7zZ59",
        "colab_type": "text"
      },
      "source": [
        "#Test image which can be used to test this project. \n",
        "####The drive path of image is mentioned by default in the Input Module \n",
        "\n",
        "\n",
        "---\n",
        "![alt text](https://www.researchgate.net/profile/Martin_Guggisberg/publication/224759117/figure/fig1/AS:393678939017226@1470871781226/Sample-handwritten-text-input-for-OCR.png)\n",
        "\n",
        "You can download test images and upload it to your google drive in order to test the application or you can use your own too.\n",
        "---https://drive.google.com/drive/folders/1o_6AxfqLBTuWyjTZKQPpwHcUbqVbSFto?usp=sharing\n"
      ]
    },
    {
      "cell_type": "markdown",
      "metadata": {
        "id": "qzkn3o9H3QIc",
        "colab_type": "text"
      },
      "source": [
        "# Prediction Module"
      ]
    },
    {
      "cell_type": "code",
      "metadata": {
        "id": "MJVY8Yai4Oju",
        "colab_type": "code",
        "colab": {
          "base_uri": "https://localhost:8080/",
          "height": 122
        },
        "outputId": "72192168-47e2-4873-e2f3-4f28fa966136"
      },
      "source": [
        "import cv2\n",
        "import numpy as np\n",
        "import pytesseract\n",
        "from PIL import Image\n",
        "\n",
        "# Path of working folder on Disk\n",
        "\n",
        "def get_string(img_path):\n",
        "    # Read image with opencv\n",
        "    img = cv2.imread(img_path)\n",
        "\n",
        "    # Convert to gray\n",
        "    img = cv2.cvtColor(img, cv2.COLOR_BGR2GRAY)\n",
        "\n",
        "    # Apply dilation and erosion to remove some noise\n",
        "    kernel = np.ones((1, 1), np.uint8)\n",
        "    img = cv2.dilate(img, kernel, iterations=1)\n",
        "    img = cv2.erode(img, kernel, iterations=1)\n",
        "\n",
        "    # Write image after removed noise\n",
        "    cv2.imwrite(\"removed_noise.png\", img)\n",
        "\n",
        "    #  Apply threshold to get image with only black and white\n",
        "    #img = cv2.adaptiveThreshold(img, 255, cv2.ADAPTIVE_THRESH_GAUSSIAN_C, cv2.THRESH_BINARY, 31, 2)\n",
        "\n",
        "    # Write the image after apply opencv to do some ...\n",
        "    cv2.imwrite(img_path, img)\n",
        "\n",
        "    # Recognize text with tesseract for python\n",
        "    result = pytesseract.image_to_string(Image.open(img_path))\n",
        "\n",
        "    # Remove template file\n",
        "    #os.remove(temp)\n",
        "\n",
        "    return result\n",
        "\n",
        "\n",
        "print ('--- Start recognize text from image ---')\n",
        "print  (get_string(filename))\n",
        "\n",
        "print (\"------ Done -------\")"
      ],
      "execution_count": null,
      "outputs": [
        {
          "output_type": "stream",
          "text": [
            "--- Start recognize text from image ---\n",
            "This is a handwritten\n",
            "example\n",
            "\n",
            "Write as qooal as you can.\n",
            "------ Done -------\n"
          ],
          "name": "stdout"
        }
      ]
    }
  ]
}